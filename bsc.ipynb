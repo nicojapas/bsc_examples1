{
 "cells": [
  {
   "cell_type": "code",
   "execution_count": null,
   "id": "guided-standing",
   "metadata": {},
   "outputs": [],
   "source": [
    "# library to interact with the blockchain\n",
    "from web3 import Web3"
   ]
  },
  {
   "cell_type": "markdown",
   "id": "mediterranean-wisdom",
   "metadata": {},
   "source": [
    "Connect to the BSC using Web3"
   ]
  },
  {
   "cell_type": "code",
   "execution_count": null,
   "id": "elder-dublin",
   "metadata": {},
   "outputs": [],
   "source": [
    "# bsc mainnet url\n",
    "bsc = \"https://bsc-dataseed.binance.org/\"\n",
    "\n",
    "# create connection\n",
    "web3 = Web3(Web3.HTTPProvider(bsc))\n",
    "\n",
    "# check if it's connected\n",
    "print(web3.isConnected())"
   ]
  },
  {
   "cell_type": "markdown",
   "id": "african-framing",
   "metadata": {},
   "source": [
    "Let's get data about the SafeMoon token"
   ]
  },
  {
   "cell_type": "code",
   "execution_count": null,
   "id": "early-bulgaria",
   "metadata": {},
   "outputs": [],
   "source": [
    "# SafeMoon token address\n",
    "safemoon_address = web3.toChecksumAddress(\"0x8076c74c5e3f5852037f31ff0093eeb8c8add8d3\")\n",
    "\n",
    "# SafeMoon Application Binary Interface (ABI)\n",
    "# it's hardcoded here, but can be also retrieved by using the bscscan API for example\n",
    "safemoon_abi = \"\"\"\n",
    "[{\"inputs\":[],\"stateMutability\":\"nonpayable\",\"type\":\"constructor\"},{\"anonymous\":false,\"inputs\":[{\"indexed\":true,\"internalType\":\"address\",\"name\":\"owner\",\"type\":\"address\"},{\"indexed\":true,\"internalType\":\"address\",\"name\":\"spender\",\"type\":\"address\"},{\"indexed\":false,\"internalType\":\"uint256\",\"name\":\"value\",\"type\":\"uint256\"}],\"name\":\"Approval\",\"type\":\"event\"},{\"anonymous\":false,\"inputs\":[{\"indexed\":false,\"internalType\":\"uint256\",\"name\":\"minTokensBeforeSwap\",\"type\":\"uint256\"}],\"name\":\"MinTokensBeforeSwapUpdated\",\"type\":\"event\"},{\"anonymous\":false,\"inputs\":[{\"indexed\":true,\"internalType\":\"address\",\"name\":\"previousOwner\",\"type\":\"address\"},{\"indexed\":true,\"internalType\":\"address\",\"name\":\"newOwner\",\"type\":\"address\"}],\"name\":\"OwnershipTransferred\",\"type\":\"event\"},{\"anonymous\":false,\"inputs\":[{\"indexed\":false,\"internalType\":\"uint256\",\"name\":\"tokensSwapped\",\"type\":\"uint256\"},{\"indexed\":false,\"internalType\":\"uint256\",\"name\":\"ethReceived\",\"type\":\"uint256\"},{\"indexed\":false,\"internalType\":\"uint256\",\"name\":\"tokensIntoLiqudity\",\"type\":\"uint256\"}],\"name\":\"SwapAndLiquify\",\"type\":\"event\"},{\"anonymous\":false,\"inputs\":[{\"indexed\":false,\"internalType\":\"bool\",\"name\":\"enabled\",\"type\":\"bool\"}],\"name\":\"SwapAndLiquifyEnabledUpdated\",\"type\":\"event\"},{\"anonymous\":false,\"inputs\":[{\"indexed\":true,\"internalType\":\"address\",\"name\":\"from\",\"type\":\"address\"},{\"indexed\":true,\"internalType\":\"address\",\"name\":\"to\",\"type\":\"address\"},{\"indexed\":false,\"internalType\":\"uint256\",\"name\":\"value\",\"type\":\"uint256\"}],\"name\":\"Transfer\",\"type\":\"event\"},{\"inputs\":[],\"name\":\"_liquidityFee\",\"outputs\":[{\"internalType\":\"uint256\",\"name\":\"\",\"type\":\"uint256\"}],\"stateMutability\":\"view\",\"type\":\"function\"},{\"inputs\":[],\"name\":\"_maxTxAmount\",\"outputs\":[{\"internalType\":\"uint256\",\"name\":\"\",\"type\":\"uint256\"}],\"stateMutability\":\"view\",\"type\":\"function\"},{\"inputs\":[],\"name\":\"_taxFee\",\"outputs\":[{\"internalType\":\"uint256\",\"name\":\"\",\"type\":\"uint256\"}],\"stateMutability\":\"view\",\"type\":\"function\"},{\"inputs\":[{\"internalType\":\"address\",\"name\":\"owner\",\"type\":\"address\"},{\"internalType\":\"address\",\"name\":\"spender\",\"type\":\"address\"}],\"name\":\"allowance\",\"outputs\":[{\"internalType\":\"uint256\",\"name\":\"\",\"type\":\"uint256\"}],\"stateMutability\":\"view\",\"type\":\"function\"},{\"inputs\":[{\"internalType\":\"address\",\"name\":\"spender\",\"type\":\"address\"},{\"internalType\":\"uint256\",\"name\":\"amount\",\"type\":\"uint256\"}],\"name\":\"approve\",\"outputs\":[{\"internalType\":\"bool\",\"name\":\"\",\"type\":\"bool\"}],\"stateMutability\":\"nonpayable\",\"type\":\"function\"},{\"inputs\":[{\"internalType\":\"address\",\"name\":\"account\",\"type\":\"address\"}],\"name\":\"balanceOf\",\"outputs\":[{\"internalType\":\"uint256\",\"name\":\"\",\"type\":\"uint256\"}],\"stateMutability\":\"view\",\"type\":\"function\"},{\"inputs\":[],\"name\":\"decimals\",\"outputs\":[{\"internalType\":\"uint8\",\"name\":\"\",\"type\":\"uint8\"}],\"stateMutability\":\"view\",\"type\":\"function\"},{\"inputs\":[{\"internalType\":\"address\",\"name\":\"spender\",\"type\":\"address\"},{\"internalType\":\"uint256\",\"name\":\"subtractedValue\",\"type\":\"uint256\"}],\"name\":\"decreaseAllowance\",\"outputs\":[{\"internalType\":\"bool\",\"name\":\"\",\"type\":\"bool\"}],\"stateMutability\":\"nonpayable\",\"type\":\"function\"},{\"inputs\":[{\"internalType\":\"uint256\",\"name\":\"tAmount\",\"type\":\"uint256\"}],\"name\":\"deliver\",\"outputs\":[],\"stateMutability\":\"nonpayable\",\"type\":\"function\"},{\"inputs\":[{\"internalType\":\"address\",\"name\":\"account\",\"type\":\"address\"}],\"name\":\"excludeFromFee\",\"outputs\":[],\"stateMutability\":\"nonpayable\",\"type\":\"function\"},{\"inputs\":[{\"internalType\":\"address\",\"name\":\"account\",\"type\":\"address\"}],\"name\":\"excludeFromReward\",\"outputs\":[],\"stateMutability\":\"nonpayable\",\"type\":\"function\"},{\"inputs\":[],\"name\":\"geUnlockTime\",\"outputs\":[{\"internalType\":\"uint256\",\"name\":\"\",\"type\":\"uint256\"}],\"stateMutability\":\"view\",\"type\":\"function\"},{\"inputs\":[{\"internalType\":\"address\",\"name\":\"account\",\"type\":\"address\"}],\"name\":\"includeInFee\",\"outputs\":[],\"stateMutability\":\"nonpayable\",\"type\":\"function\"},{\"inputs\":[{\"internalType\":\"address\",\"name\":\"account\",\"type\":\"address\"}],\"name\":\"includeInReward\",\"outputs\":[],\"stateMutability\":\"nonpayable\",\"type\":\"function\"},{\"inputs\":[{\"internalType\":\"address\",\"name\":\"spender\",\"type\":\"address\"},{\"internalType\":\"uint256\",\"name\":\"addedValue\",\"type\":\"uint256\"}],\"name\":\"increaseAllowance\",\"outputs\":[{\"internalType\":\"bool\",\"name\":\"\",\"type\":\"bool\"}],\"stateMutability\":\"nonpayable\",\"type\":\"function\"},{\"inputs\":[{\"internalType\":\"address\",\"name\":\"account\",\"type\":\"address\"}],\"name\":\"isExcludedFromFee\",\"outputs\":[{\"internalType\":\"bool\",\"name\":\"\",\"type\":\"bool\"}],\"stateMutability\":\"view\",\"type\":\"function\"},{\"inputs\":[{\"internalType\":\"address\",\"name\":\"account\",\"type\":\"address\"}],\"name\":\"isExcludedFromReward\",\"outputs\":[{\"internalType\":\"bool\",\"name\":\"\",\"type\":\"bool\"}],\"stateMutability\":\"view\",\"type\":\"function\"},{\"inputs\":[{\"internalType\":\"uint256\",\"name\":\"time\",\"type\":\"uint256\"}],\"name\":\"lock\",\"outputs\":[],\"stateMutability\":\"nonpayable\",\"type\":\"function\"},{\"inputs\":[],\"name\":\"name\",\"outputs\":[{\"internalType\":\"string\",\"name\":\"\",\"type\":\"string\"}],\"stateMutability\":\"view\",\"type\":\"function\"},{\"inputs\":[],\"name\":\"owner\",\"outputs\":[{\"internalType\":\"address\",\"name\":\"\",\"type\":\"address\"}],\"stateMutability\":\"view\",\"type\":\"function\"},{\"inputs\":[{\"internalType\":\"uint256\",\"name\":\"tAmount\",\"type\":\"uint256\"},{\"internalType\":\"bool\",\"name\":\"deductTransferFee\",\"type\":\"bool\"}],\"name\":\"reflectionFromToken\",\"outputs\":[{\"internalType\":\"uint256\",\"name\":\"\",\"type\":\"uint256\"}],\"stateMutability\":\"view\",\"type\":\"function\"},{\"inputs\":[],\"name\":\"renounceOwnership\",\"outputs\":[],\"stateMutability\":\"nonpayable\",\"type\":\"function\"},{\"inputs\":[{\"internalType\":\"uint256\",\"name\":\"liquidityFee\",\"type\":\"uint256\"}],\"name\":\"setLiquidityFeePercent\",\"outputs\":[],\"stateMutability\":\"nonpayable\",\"type\":\"function\"},{\"inputs\":[{\"internalType\":\"uint256\",\"name\":\"maxTxPercent\",\"type\":\"uint256\"}],\"name\":\"setMaxTxPercent\",\"outputs\":[],\"stateMutability\":\"nonpayable\",\"type\":\"function\"},{\"inputs\":[{\"internalType\":\"bool\",\"name\":\"_enabled\",\"type\":\"bool\"}],\"name\":\"setSwapAndLiquifyEnabled\",\"outputs\":[],\"stateMutability\":\"nonpayable\",\"type\":\"function\"},{\"inputs\":[{\"internalType\":\"uint256\",\"name\":\"taxFee\",\"type\":\"uint256\"}],\"name\":\"setTaxFeePercent\",\"outputs\":[],\"stateMutability\":\"nonpayable\",\"type\":\"function\"},{\"inputs\":[],\"name\":\"swapAndLiquifyEnabled\",\"outputs\":[{\"internalType\":\"bool\",\"name\":\"\",\"type\":\"bool\"}],\"stateMutability\":\"view\",\"type\":\"function\"},{\"inputs\":[],\"name\":\"symbol\",\"outputs\":[{\"internalType\":\"string\",\"name\":\"\",\"type\":\"string\"}],\"stateMutability\":\"view\",\"type\":\"function\"},{\"inputs\":[{\"internalType\":\"uint256\",\"name\":\"rAmount\",\"type\":\"uint256\"}],\"name\":\"tokenFromReflection\",\"outputs\":[{\"internalType\":\"uint256\",\"name\":\"\",\"type\":\"uint256\"}],\"stateMutability\":\"view\",\"type\":\"function\"},{\"inputs\":[],\"name\":\"totalFees\",\"outputs\":[{\"internalType\":\"uint256\",\"name\":\"\",\"type\":\"uint256\"}],\"stateMutability\":\"view\",\"type\":\"function\"},{\"inputs\":[],\"name\":\"totalSupply\",\"outputs\":[{\"internalType\":\"uint256\",\"name\":\"\",\"type\":\"uint256\"}],\"stateMutability\":\"view\",\"type\":\"function\"},{\"inputs\":[{\"internalType\":\"address\",\"name\":\"recipient\",\"type\":\"address\"},{\"internalType\":\"uint256\",\"name\":\"amount\",\"type\":\"uint256\"}],\"name\":\"transfer\",\"outputs\":[{\"internalType\":\"bool\",\"name\":\"\",\"type\":\"bool\"}],\"stateMutability\":\"nonpayable\",\"type\":\"function\"},{\"inputs\":[{\"internalType\":\"address\",\"name\":\"sender\",\"type\":\"address\"},{\"internalType\":\"address\",\"name\":\"recipient\",\"type\":\"address\"},{\"internalType\":\"uint256\",\"name\":\"amount\",\"type\":\"uint256\"}],\"name\":\"transferFrom\",\"outputs\":[{\"internalType\":\"bool\",\"name\":\"\",\"type\":\"bool\"}],\"stateMutability\":\"nonpayable\",\"type\":\"function\"},{\"inputs\":[{\"internalType\":\"address\",\"name\":\"newOwner\",\"type\":\"address\"}],\"name\":\"transferOwnership\",\"outputs\":[],\"stateMutability\":\"nonpayable\",\"type\":\"function\"},{\"inputs\":[],\"name\":\"uniswapV2Pair\",\"outputs\":[{\"internalType\":\"address\",\"name\":\"\",\"type\":\"address\"}],\"stateMutability\":\"view\",\"type\":\"function\"},{\"inputs\":[],\"name\":\"uniswapV2Router\",\"outputs\":[{\"internalType\":\"contract IUniswapV2Router02\",\"name\":\"\",\"type\":\"address\"}],\"stateMutability\":\"view\",\"type\":\"function\"},{\"inputs\":[],\"name\":\"unlock\",\"outputs\":[],\"stateMutability\":\"nonpayable\",\"type\":\"function\"},{\"stateMutability\":\"payable\",\"type\":\"receive\"}]\n",
    "\"\"\""
   ]
  },
  {
   "cell_type": "code",
   "execution_count": null,
   "id": "artistic-violation",
   "metadata": {},
   "outputs": [],
   "source": [
    "token_address = safemoon_address\n",
    "token_abi = safemoon_abi\n",
    "\n",
    "# with the address and abi the contract can be retrieved\n",
    "token_contract = web3.eth.contract(address=token_address, abi=token_abi)"
   ]
  },
  {
   "cell_type": "code",
   "execution_count": null,
   "id": "integrated-heart",
   "metadata": {},
   "outputs": [],
   "source": [
    "# we can see all the functions that the contract supports\n",
    "token_contract.all_functions()"
   ]
  },
  {
   "cell_type": "markdown",
   "id": "reduced-wings",
   "metadata": {},
   "source": [
    "Let's get some information about the token by asking the contract using its functions"
   ]
  },
  {
   "cell_type": "code",
   "execution_count": null,
   "id": "widespread-address",
   "metadata": {},
   "outputs": [],
   "source": [
    "# get token's name\n",
    "token_name = token_contract.functions.name().call()\n",
    "print(\"name: \" + token_name)\n",
    "\n",
    "# get token' symbol\n",
    "token_symbol = token_contract.functions.symbol().call()\n",
    "print(\"symbol: \" + token_symbol)\n",
    "\n",
    "# what's the contract owner's address\n",
    "\n",
    "token_owner = token_contract.functions.owner().call()\n",
    "\n",
    "print(\"owner address: \" + str(token_owner))\n",
    "\n",
    "# get total supply of tokens\n",
    "token_total_supply = token_contract.functions.totalSupply().call()\n",
    "\n",
    "# the value has to be formatted to account for decimals\n",
    "token_total_supply = web3.fromWei(token_total_supply, 'gwei')\n",
    "\n",
    "print(\"total supply: \" + str(token_total_supply))\n"
   ]
  },
  {
   "cell_type": "code",
   "execution_count": null,
   "id": "tender-annotation",
   "metadata": {},
   "outputs": [],
   "source": [
    "# now let's find out if the owner of the token holds some of them in his/her wallet\n",
    "# we already now the address, so let's use the function balanceOf\n",
    "\n",
    "owner_balance = token_contract.functions.balanceOf(token_owner).call()\n",
    "owner_balance = web3.fromWei(owner_balance, 'gwei')\n",
    "print(\"the owner of the token has \" + str(owner_balance) + \" tokens in his/her wallet.\")"
   ]
  },
  {
   "cell_type": "markdown",
   "id": "olympic-tracker",
   "metadata": {},
   "source": [
    "Let's see how to retrieve some information from a wallet address"
   ]
  },
  {
   "cell_type": "code",
   "execution_count": null,
   "id": "local-converter",
   "metadata": {},
   "outputs": [],
   "source": [
    "# as an example, let's just take the same SafeMoon owner's address that we have from before\n",
    "wallet_address = web3.toChecksumAddress(token_owner)\n",
    "\n",
    "# and try to get the bnb balance for this address\n",
    "# the value has to be formatted from Wei to Ether, or BNB which is the same here\n",
    "wallet_balance = float(web3.fromWei(web3.eth.get_balance(wallet_address), 'ether'))\n",
    "\n",
    "print(\"bnb balance: \" + str(round(wallet_balance, 10)))"
   ]
  },
  {
   "cell_type": "markdown",
   "id": "aerial-architect",
   "metadata": {},
   "source": [
    "Let's write a function the creates transactions"
   ]
  },
  {
   "cell_type": "code",
   "execution_count": null,
   "id": "analyzed-speed",
   "metadata": {},
   "outputs": [],
   "source": [
    "# we need basically the address to which we're sending the bnb\n",
    "# and then our own address with its private key\n",
    "# because having access to the private key enables anybody to spend all of a wallet's tokens,\n",
    "# this information is very sensitive and should be encrypted. but we won't deal with this here\n",
    "\n",
    "def transfer(from_address, from_private, to_address, amount):\n",
    "\n",
    "    # we need to create a nonce, which is a pseudo-random number used as a counter during the process of mining\n",
    "    nonce = web3.eth.get_transaction_count(from_address)\n",
    "    \n",
    "    # define the transaction\n",
    "    # gas and gasPrice are set to 21000 and 5 respectively, which is default\n",
    "    tx = {\n",
    "        'nonce': nonce,\n",
    "        'from': from_address,\n",
    "        'to': to_address,\n",
    "        'value': web3.toWei(amount, 'ether'),\n",
    "        'gas': 21000,\n",
    "        'gasPrice': web3.toWei('5', 'gwei'),\n",
    "    }\n",
    "    \n",
    "    # the transaction has to be signed\n",
    "    signed_tx = web3.eth.account.sign_transaction(tx, from_private)\n",
    "    # we send the transaction and get the hash, which will be returned by the function\n",
    "    tx_hash = web3.eth.send_raw_transaction(signed_tx.rawTransaction)\n",
    "\n",
    "    return(tx_hash)"
   ]
  },
  {
   "cell_type": "code",
   "execution_count": null,
   "id": "mobile-measure",
   "metadata": {},
   "outputs": [],
   "source": [
    "# then we can simply provide the addresses and the private key and the transaction will be sent!\n",
    "\n",
    "tx_hash = transfer(\n",
    "    from_address=\"0x0000000000000000000000000000000000000000\",\n",
    "    from_private=\"...\",\n",
    "    to_address=\"0x0000000000000000000000000000000000000000\",\n",
    "    amount=0.01 # in bnb\n",
    ")\n",
    "\n",
    "# after the transaction is sent, it takes some time for it to be completed\n",
    "# the next function allows us to wait for it to be executed and then provide us\n",
    "# the final data including if it was successful or not\n",
    "print(web3.eth.waitForTransactionReceipt(tx_hash))"
   ]
  },
  {
   "cell_type": "code",
   "execution_count": null,
   "id": "micro-saskatchewan",
   "metadata": {},
   "outputs": [],
   "source": []
  }
 ],
 "metadata": {
  "kernelspec": {
   "display_name": "Python 3",
   "language": "python",
   "name": "python3"
  },
  "language_info": {
   "codemirror_mode": {
    "name": "ipython",
    "version": 3
   },
   "file_extension": ".py",
   "mimetype": "text/x-python",
   "name": "python",
   "nbconvert_exporter": "python",
   "pygments_lexer": "ipython3",
   "version": "3.7.9"
  }
 },
 "nbformat": 4,
 "nbformat_minor": 5
}
